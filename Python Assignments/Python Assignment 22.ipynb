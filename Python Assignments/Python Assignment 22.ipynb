{
 "cells": [
  {
   "cell_type": "markdown",
   "metadata": {
    "id": "W6X-CHTNWmYJ"
   },
   "source": [
    "# Python Assignment 22"
   ]
  },
  {
   "cell_type": "markdown",
   "metadata": {
    "id": "-JGZba4vWsAb"
   },
   "source": [
    "> **1. What is the result of the code, and explain?**\n",
    "\n",
    "&gt;&gt;&gt; X = &#39;iNeuron&#39; <br>\n",
    "&gt;&gt;&gt; def func(): <br>\n",
    "print(X)\n",
    "\n",
    "&gt;&gt;&gt; func()"
   ]
  },
  {
   "cell_type": "code",
   "execution_count": 1,
   "metadata": {
    "colab": {
     "base_uri": "https://localhost:8080/"
    },
    "executionInfo": {
     "elapsed": 416,
     "status": "ok",
     "timestamp": 1627044200184,
     "user": {
      "displayName": "Yuno Clover",
      "photoUrl": "",
      "userId": "14793961318254159012"
     },
     "user_tz": -330
    },
    "id": "2iDYMEk2O39n",
    "outputId": "416bc497-1367-47e6-8044-31468e29ad9d"
   },
   "outputs": [
    {
     "name": "stdout",
     "output_type": "stream",
     "text": [
      "iNeuron\n"
     ]
    }
   ],
   "source": [
    "X = 'iNeuron'\n",
    "\n",
    "def func():\n",
    "    print(X)\n",
    "\n",
    "func()"
   ]
  },
  {
   "cell_type": "markdown",
   "metadata": {},
   "source": [
    "The global variables are accessible in side the functions in python. But we can not access function variable out side function.<br> \n",
    "Since x is global variable we are able to print it in side the function. <br>\n",
    "Solution : 'iNeuron'"
   ]
  },
  {
   "cell_type": "markdown",
   "metadata": {
    "id": "8IyJC3ufXCkG"
   },
   "source": [
    "> **2. What is the result of the code, and explain?**\n",
    "\n",
    "&gt;&gt;&gt; X = &#39;iNeuron&#39;<br>\n",
    "&gt;&gt;&gt; def func():<br>\n",
    "X = &#39;NI!&#39;\n",
    "\n",
    "&gt;&gt;&gt; func()<br>\n",
    "&gt;&gt;&gt; print(X)"
   ]
  },
  {
   "cell_type": "code",
   "execution_count": 3,
   "metadata": {
    "colab": {
     "base_uri": "https://localhost:8080/"
    },
    "executionInfo": {
     "elapsed": 470,
     "status": "ok",
     "timestamp": 1627044220993,
     "user": {
      "displayName": "Yuno Clover",
      "photoUrl": "",
      "userId": "14793961318254159012"
     },
     "user_tz": -330
    },
    "id": "JTUuOQbGW9U9",
    "outputId": "49e8e16d-e7db-4849-9450-f7d81369caec"
   },
   "outputs": [
    {
     "name": "stdout",
     "output_type": "stream",
     "text": [
      "iNeuron\n"
     ]
    }
   ],
   "source": [
    "X = 'iNeuron'\n",
    "\n",
    "def func():\n",
    "    X = 'NI!'\n",
    "\n",
    "func()\n",
    "print(X)"
   ]
  },
  {
   "cell_type": "markdown",
   "metadata": {},
   "source": [
    "The global variables are access in side the functions in python. But we can not access function variable out side function. <br>\n",
    "Since x is golbal variable we are able to print it out side of the function.<br>\n",
    "Solution = 'iNeuron'"
   ]
  },
  {
   "cell_type": "markdown",
   "metadata": {
    "id": "3p6p5Ge6XTfS"
   },
   "source": [
    "> **3. What does this code print, and why?**\n",
    "\n",
    "&gt;&gt;&gt; X = &#39;iNeuron&#39;<br>\n",
    "&gt;&gt;&gt; def func():<br>\n",
    "X = &#39;NI&#39;<br>\n",
    "print(X)\n",
    "\n",
    "&gt;&gt;&gt; func()<br>\n",
    "&gt;&gt;&gt; print(X)"
   ]
  },
  {
   "cell_type": "code",
   "execution_count": 5,
   "metadata": {
    "colab": {
     "base_uri": "https://localhost:8080/"
    },
    "executionInfo": {
     "elapsed": 520,
     "status": "ok",
     "timestamp": 1627044252086,
     "user": {
      "displayName": "Yuno Clover",
      "photoUrl": "",
      "userId": "14793961318254159012"
     },
     "user_tz": -330
    },
    "id": "dW85OuW3XNNv",
    "outputId": "a3d21824-6f4a-4f47-ca2c-3b3a0d6017cd"
   },
   "outputs": [
    {
     "name": "stdout",
     "output_type": "stream",
     "text": [
      "NI!\n",
      "iNeuron\n"
     ]
    }
   ],
   "source": [
    "X = 'iNeuron'\n",
    "\n",
    "def func():\n",
    "    X = 'NI!'\n",
    "    print(X)\n",
    "\n",
    "func()\n",
    "print(X)"
   ]
  },
  {
   "cell_type": "markdown",
   "metadata": {},
   "source": [
    "The global variables are access in side the functions in python. But we can not access function variable out side function.<br>\n",
    "X is updated with 'NI' which is local to function and its immutable. its name space is with in the function.<br>\n",
    "Solution = 'NI!', 'iNeuron'"
   ]
  },
  {
   "cell_type": "markdown",
   "metadata": {
    "id": "BT0QH7flXhDW"
   },
   "source": [
    "> **4. What output does this code produce? Why?**\n",
    "\n",
    "&gt;&gt;&gt; X = &#39;iNeuron&#39;<br>\n",
    "&gt;&gt;&gt; def func():<br>\n",
    "global X<br>\n",
    "X = &#39;NI&#39;\n",
    "\n",
    "&gt;&gt;&gt; func()<br>\n",
    "&gt;&gt;&gt; print(X)"
   ]
  },
  {
   "cell_type": "code",
   "execution_count": 7,
   "metadata": {
    "colab": {
     "base_uri": "https://localhost:8080/"
    },
    "executionInfo": {
     "elapsed": 387,
     "status": "ok",
     "timestamp": 1627044277671,
     "user": {
      "displayName": "Yuno Clover",
      "photoUrl": "",
      "userId": "14793961318254159012"
     },
     "user_tz": -330
    },
    "id": "2PJjXKwbXavl",
    "outputId": "9e9da432-a165-4270-b806-f8ee8d529136"
   },
   "outputs": [
    {
     "name": "stdout",
     "output_type": "stream",
     "text": [
      "NI!\n",
      "NI!\n"
     ]
    }
   ],
   "source": [
    "X = 'iNeuron'\n",
    "\n",
    "def func():\n",
    "    global X\n",
    "    X = 'NI!'\n",
    "    print(X)\n",
    "\n",
    "func()\n",
    "print(X)"
   ]
  },
  {
   "cell_type": "markdown",
   "metadata": {},
   "source": [
    "Since the X in side function is made Global, it will be accesible out side of the function too. <br>\n",
    "Now X will have new value.<br>\n",
    "\n",
    "Solution : 'NI!', 'NI!'"
   ]
  },
  {
   "cell_type": "markdown",
   "metadata": {
    "id": "T4opwrdWX2yT"
   },
   "source": [
    "> **5. What about this code—what’s the output, and why?**\n",
    "\n",
    "&gt;&gt;&gt; X = &#39;iNeuron&#39;<br>\n",
    "&gt;&gt;&gt; def func():<br>\n",
    "X = &#39;NI&#39;<br>\n",
    "\n",
    "def nested():<br>\n",
    "print(X)<br>\n",
    "\n",
    "nested()\n",
    "\n",
    "&gt;&gt;&gt; func() <br>\n",
    "&gt;&gt;&gt; X"
   ]
  },
  {
   "cell_type": "code",
   "execution_count": 8,
   "metadata": {
    "colab": {
     "base_uri": "https://localhost:8080/",
     "height": 52
    },
    "executionInfo": {
     "elapsed": 394,
     "status": "ok",
     "timestamp": 1627044307474,
     "user": {
      "displayName": "Yuno Clover",
      "photoUrl": "",
      "userId": "14793961318254159012"
     },
     "user_tz": -330
    },
    "id": "STm5p4UlXv7Y",
    "outputId": "1910f8fb-2c27-49d1-9be1-4017bb116c2a"
   },
   "outputs": [
    {
     "name": "stdout",
     "output_type": "stream",
     "text": [
      "iNeuron\n"
     ]
    },
    {
     "data": {
      "text/plain": [
       "'iNeuron'"
      ]
     },
     "execution_count": 8,
     "metadata": {},
     "output_type": "execute_result"
    }
   ],
   "source": [
    "X = 'iNeuron'\n",
    "\n",
    "def func():\n",
    "    X = 'NI'\n",
    "    \n",
    "def nested():\n",
    "    print(X)\n",
    "    \n",
    "nested()\n",
    "func()\n",
    "X"
   ]
  },
  {
   "cell_type": "markdown",
   "metadata": {},
   "source": [
    "The nested() function will print 'iNeuron', Then func() does not display anything,<br>\n",
    "and x ='NI' is not accessible out side the function.<br>\n",
    "\n",
    "Solution : 'iNeuron'"
   ]
  },
  {
   "cell_type": "markdown",
   "metadata": {
    "id": "QypZrja3Yh2n"
   },
   "source": [
    "> **6. How about this code: what is its output in Python 3, and explain?**\n",
    "\n",
    "&gt;&gt;&gt; def func():<br>\n",
    "    X = &#39;NI&#39;<br>\n",
    "    def nested():<br>\n",
    "        nonlocal X<br>\n",
    "        X = &#39;Spam&#39;<br>\n",
    "\n",
    "    nested()\n",
    "    print(X)\n",
    "\n",
    "&gt;&gt;&gt; func()"
   ]
  },
  {
   "cell_type": "code",
   "execution_count": 9,
   "metadata": {
    "colab": {
     "base_uri": "https://localhost:8080/"
    },
    "executionInfo": {
     "elapsed": 426,
     "status": "ok",
     "timestamp": 1627044132525,
     "user": {
      "displayName": "Yuno Clover",
      "photoUrl": "",
      "userId": "14793961318254159012"
     },
     "user_tz": -330
    },
    "id": "1FQ6XRcSYC8p",
    "outputId": "18a30b8e-f3b3-4bf1-ca1c-e5e532d3d1a5"
   },
   "outputs": [
    {
     "name": "stdout",
     "output_type": "stream",
     "text": [
      "spam\n"
     ]
    }
   ],
   "source": [
    "def func():\n",
    "    X = 'NI'\n",
    "    def nested():\n",
    "        nonlocal X\n",
    "        X = 'spam'\n",
    "    nested()\n",
    "    print(X)\n",
    "\n",
    "func()"
   ]
  },
  {
   "cell_type": "markdown",
   "metadata": {
    "id": "TyNYDrtNYnyr"
   },
   "source": [
    "Nonlocal variables are used in nested functions whose local scope is not defined. <br>\n",
    "This means that the variable can be neither in the local nor the global scope. it print the updated value from nested <br>\n",
    "function\n",
    "\n",
    "Solution : 'spam'"
   ]
  },
  {
   "cell_type": "code",
   "execution_count": null,
   "metadata": {},
   "outputs": [],
   "source": []
  }
 ],
 "metadata": {
  "colab": {
   "authorship_tag": "ABX9TyPYfapC/k7xsvAHqbGMRhZs",
   "collapsed_sections": [],
   "name": "Python Basic 22.ipynb",
   "provenance": []
  },
  "kernelspec": {
   "display_name": "Python 3 (ipykernel)",
   "language": "python",
   "name": "python3"
  },
  "language_info": {
   "codemirror_mode": {
    "name": "ipython",
    "version": 3
   },
   "file_extension": ".py",
   "mimetype": "text/x-python",
   "name": "python",
   "nbconvert_exporter": "python",
   "pygments_lexer": "ipython3",
   "version": "3.10.9"
  }
 },
 "nbformat": 4,
 "nbformat_minor": 1
}
