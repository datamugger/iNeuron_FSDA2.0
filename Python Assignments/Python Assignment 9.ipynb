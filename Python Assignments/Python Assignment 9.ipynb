{
 "cells": [
  {
   "cell_type": "markdown",
   "id": "c28a767d",
   "metadata": {},
   "source": [
    "# Python Assignment 9"
   ]
  },
  {
   "cell_type": "markdown",
   "id": "0f90f2bb",
   "metadata": {},
   "source": [
    "> **1. To what does a relative path refer?**"
   ]
  },
  {
   "cell_type": "markdown",
   "id": "e4e9dd24",
   "metadata": {},
   "source": [
    "A relative path in Python is a path that describes the location of a directory relative to the entry point where you run the Python script. So let's say you run your Python code in ~/home/projects/example-project/app.py"
   ]
  },
  {
   "cell_type": "markdown",
   "id": "fbf258c4",
   "metadata": {},
   "source": [
    "> **2. What does an absolute path start with your operating system?**"
   ]
  },
  {
   "cell_type": "markdown",
   "id": "aceb259c",
   "metadata": {},
   "source": [
    "An absolute path makes no assumptions about your current location in relation to the location of the file or directory it's describing. An absolute path always begins from the absolute start of your hard drive and describes every step you must take through the filesystem to end up at the target location."
   ]
  },
  {
   "cell_type": "markdown",
   "id": "95b7a44e",
   "metadata": {},
   "source": [
    "> **3. What do the functions os.getcwd() and os.chdir() do?**"
   ]
  },
  {
   "cell_type": "markdown",
   "id": "a92a8b9e",
   "metadata": {},
   "source": [
    "* os.getcwd() : CWD stands for Current Working Directory. This function allows you to see what your current working directory is. \n",
    "* os.chdir(\"path-to-dir\") : Short for CHange DIRectory, this function allows you to set the current working directory to a path of your choice."
   ]
  },
  {
   "cell_type": "markdown",
   "id": "44968bc9",
   "metadata": {},
   "source": [
    "> **4. What are the . and .. folders?**"
   ]
  },
  {
   "cell_type": "code",
   "execution_count": null,
   "id": "3c501f61",
   "metadata": {},
   "outputs": [],
   "source": []
  },
  {
   "cell_type": "markdown",
   "id": "8eb75d5e",
   "metadata": {},
   "source": [
    "> **5. In C:\\bacon\\eggs\\spam.txt, which part is the dir name, and which part is the base name?**"
   ]
  },
  {
   "cell_type": "markdown",
   "id": "6d64d411",
   "metadata": {},
   "source": [
    "C:\\bacon\\eggs is the dir name, while spam. txt is the base name."
   ]
  },
  {
   "cell_type": "markdown",
   "id": "829a177a",
   "metadata": {},
   "source": [
    "> **6. What are the three “mode” arguments that can be passed to the open() function?**"
   ]
  },
  {
   "cell_type": "markdown",
   "id": "5dc3bfbd",
   "metadata": {},
   "source": [
    "  Mode\t  Description\n",
    "* 'r'  -  Open a file for reading. (default)\n",
    "* 'w'  -  Open a file for writing. Creates a new file if it does not exist or truncates the file if it exists.\n",
    "* 'x'  -  Open a file for exclusive creation. If the file already exists, the operation fails."
   ]
  },
  {
   "cell_type": "markdown",
   "id": "7bb2783c",
   "metadata": {},
   "source": [
    "> **7. What happens if an existing file is opened in write mode?**"
   ]
  },
  {
   "cell_type": "markdown",
   "id": "e928a2d9",
   "metadata": {},
   "source": [
    "To open a file in write mode, “w” is specified. When mode “w” is specified, it creates an empty file for output operations. What if the file already exists? If a file with the same name already exists, its contents are discarded and the file is treated as a new empty file."
   ]
  },
  {
   "cell_type": "markdown",
   "id": "cfc4fdf7",
   "metadata": {},
   "source": [
    "> **8. How do you tell the difference between read() and readlines()?**"
   ]
  },
  {
   "cell_type": "markdown",
   "id": "ddc279ba",
   "metadata": {},
   "source": [
    "While Read() and ReadLine() both are the Console Class methods. The only difference between the Read() and ReadLine() is that Console. Read is used to read only single character from the standard output device, while Console. ReadLine is used to read a line or string from the standard output device."
   ]
  },
  {
   "cell_type": "markdown",
   "id": "9b7c663a",
   "metadata": {},
   "source": [
    "> **9. What data structure does a shelf value resemble?**"
   ]
  },
  {
   "cell_type": "markdown",
   "id": "128d8bbe",
   "metadata": {},
   "source": [
    "What data structure does a shelf value resemble? A shelf value resembles a dictionary value; it has keys and values, along with keys() and values() methods that work similarly to the dictionary methods of the same names."
   ]
  }
 ],
 "metadata": {
  "kernelspec": {
   "display_name": "Python 3 (ipykernel)",
   "language": "python",
   "name": "python3"
  },
  "language_info": {
   "codemirror_mode": {
    "name": "ipython",
    "version": 3
   },
   "file_extension": ".py",
   "mimetype": "text/x-python",
   "name": "python",
   "nbconvert_exporter": "python",
   "pygments_lexer": "ipython3",
   "version": "3.11.1"
  }
 },
 "nbformat": 4,
 "nbformat_minor": 5
}
