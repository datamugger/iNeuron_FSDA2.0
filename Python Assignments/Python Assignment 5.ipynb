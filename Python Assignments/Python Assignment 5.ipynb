{
 "cells": [
  {
   "cell_type": "markdown",
   "metadata": {
    "id": "ITnJjTCylZpr"
   },
   "source": [
    "# Python Assignment 5"
   ]
  },
  {
   "cell_type": "markdown",
   "metadata": {
    "id": "Mlwq8ITHln7g"
   },
   "source": [
    "**1. What does an empty dictionary's code look like?**"
   ]
  },
  {
   "cell_type": "code",
   "execution_count": 2,
   "metadata": {
    "colab": {
     "base_uri": "https://localhost:8080/"
    },
    "executionInfo": {
     "elapsed": 17,
     "status": "ok",
     "timestamp": 1626695359668,
     "user": {
      "displayName": "Yuno Clover",
      "photoUrl": "",
      "userId": "14793961318254159012"
     },
     "user_tz": -330
    },
    "id": "_ZeoW5KHk47D",
    "outputId": "c158b122-7fd4-4be4-8b4e-c34a0569bdd3"
   },
   "outputs": [
    {
     "data": {
      "text/plain": [
       "{}"
      ]
     },
     "execution_count": 2,
     "metadata": {},
     "output_type": "execute_result"
    }
   ],
   "source": [
    "dict = {} #empty dictionary\n",
    "dict"
   ]
  },
  {
   "cell_type": "markdown",
   "metadata": {
    "id": "D6GvSy97mbEb"
   },
   "source": [
    "**2. What is the value of a dictionary value with the key 'foo' and the value 42?**"
   ]
  },
  {
   "cell_type": "code",
   "execution_count": 3,
   "metadata": {
    "colab": {
     "base_uri": "https://localhost:8080/"
    },
    "executionInfo": {
     "elapsed": 407,
     "status": "ok",
     "timestamp": 1626695401883,
     "user": {
      "displayName": "Yuno Clover",
      "photoUrl": "",
      "userId": "14793961318254159012"
     },
     "user_tz": -330
    },
    "id": "_z554b5OmfQ7",
    "outputId": "adf23e50-7ff4-4c45-e9ad-0e992824085d"
   },
   "outputs": [
    {
     "data": {
      "text/plain": [
       "{'foo': 42}"
      ]
     },
     "execution_count": 3,
     "metadata": {},
     "output_type": "execute_result"
    }
   ],
   "source": [
    "{'foo':42}"
   ]
  },
  {
   "cell_type": "markdown",
   "metadata": {
    "id": "viH5obB1lX7K"
   },
   "source": [
    "**3. What is the most significant distinction between a dictionary and a list?**"
   ]
  },
  {
   "cell_type": "markdown",
   "metadata": {
    "id": "uNf7WkVVmpWU"
   },
   "source": [
    "Most significant difference: <br>\n",
    "    List - items in list are Ordered and sequential.<br>\n",
    "    Dictionary : items in dictionary are Unordered."
   ]
  },
  {
   "cell_type": "markdown",
   "metadata": {
    "id": "UqWVUifCm1Jm"
   },
   "source": [
    "**4. What happens if you try to access spam['foo'] if spam is {'bar': 100}?**"
   ]
  },
  {
   "cell_type": "code",
   "execution_count": 4,
   "metadata": {
    "colab": {
     "base_uri": "https://localhost:8080/",
     "height": 214
    },
    "executionInfo": {
     "elapsed": 456,
     "status": "error",
     "timestamp": 1626695516765,
     "user": {
      "displayName": "Yuno Clover",
      "photoUrl": "",
      "userId": "14793961318254159012"
     },
     "user_tz": -330
    },
    "id": "aNGnveVcmk30",
    "outputId": "57ca3d1f-695c-4a67-88de-5f06e263b5bd"
   },
   "outputs": [
    {
     "ename": "KeyError",
     "evalue": "'foo'",
     "output_type": "error",
     "traceback": [
      "\u001b[1;31m---------------------------------------------------------------------------\u001b[0m",
      "\u001b[1;31mKeyError\u001b[0m                                  Traceback (most recent call last)",
      "Cell \u001b[1;32mIn[4], line 2\u001b[0m\n\u001b[0;32m      1\u001b[0m spam \u001b[38;5;241m=\u001b[39m {\u001b[38;5;124m'\u001b[39m\u001b[38;5;124mbar\u001b[39m\u001b[38;5;124m'\u001b[39m:\u001b[38;5;241m100\u001b[39m}\n\u001b[1;32m----> 2\u001b[0m \u001b[43mspam\u001b[49m\u001b[43m[\u001b[49m\u001b[38;5;124;43m'\u001b[39;49m\u001b[38;5;124;43mfoo\u001b[39;49m\u001b[38;5;124;43m'\u001b[39;49m\u001b[43m]\u001b[49m\n",
      "\u001b[1;31mKeyError\u001b[0m: 'foo'"
     ]
    }
   ],
   "source": [
    "spam = {'bar':100}\n",
    "spam['foo']\n",
    "\n",
    "# This will give us KeyError"
   ]
  },
  {
   "cell_type": "markdown",
   "metadata": {
    "id": "vbu45XksnUt5"
   },
   "source": [
    "**5. If a dictionary is stored in spam, what is the difference between the expressions 'cat' in spam and 'cat' in spam.keys()?**"
   ]
  },
  {
   "cell_type": "code",
   "execution_count": 5,
   "metadata": {
    "colab": {
     "base_uri": "https://localhost:8080/"
    },
    "executionInfo": {
     "elapsed": 22,
     "status": "ok",
     "timestamp": 1626695717631,
     "user": {
      "displayName": "Yuno Clover",
      "photoUrl": "",
      "userId": "14793961318254159012"
     },
     "user_tz": -330
    },
    "id": "YEFzllnhm7su",
    "outputId": "0148e018-c736-4f3c-a8db-2bcab18226ed"
   },
   "outputs": [
    {
     "data": {
      "text/plain": [
       "True"
      ]
     },
     "execution_count": 5,
     "metadata": {},
     "output_type": "execute_result"
    }
   ],
   "source": [
    "spam = {'cat':'billi mausi'}\n",
    "'cat' in spam"
   ]
  },
  {
   "cell_type": "code",
   "execution_count": 6,
   "metadata": {
    "colab": {
     "base_uri": "https://localhost:8080/"
    },
    "executionInfo": {
     "elapsed": 413,
     "status": "ok",
     "timestamp": 1626695736137,
     "user": {
      "displayName": "Yuno Clover",
      "photoUrl": "",
      "userId": "14793961318254159012"
     },
     "user_tz": -330
    },
    "id": "i27uorfOntAE",
    "outputId": "8b041881-877c-46a6-b067-64e07f647753"
   },
   "outputs": [
    {
     "data": {
      "text/plain": [
       "True"
      ]
     },
     "execution_count": 6,
     "metadata": {},
     "output_type": "execute_result"
    }
   ],
   "source": [
    "'cat' in spam.keys()"
   ]
  },
  {
   "cell_type": "markdown",
   "metadata": {},
   "source": [
    "There is no differnce between the above two expressions as both are checking for key 'cat' in the dictionary spam."
   ]
  },
  {
   "cell_type": "markdown",
   "metadata": {
    "id": "XVR0XMvXn6HL"
   },
   "source": [
    "\n",
    "**6. If a dictionary is stored in spam, what is the difference between the expressions 'cat' in spam and 'cat' in spam.values()?**"
   ]
  },
  {
   "cell_type": "code",
   "execution_count": 7,
   "metadata": {
    "colab": {
     "base_uri": "https://localhost:8080/"
    },
    "executionInfo": {
     "elapsed": 392,
     "status": "ok",
     "timestamp": 1626695784471,
     "user": {
      "displayName": "Yuno Clover",
      "photoUrl": "",
      "userId": "14793961318254159012"
     },
     "user_tz": -330
    },
    "id": "m_6ZtEiWnu7p",
    "outputId": "2d0d939a-4610-4585-85a9-0b069989127c"
   },
   "outputs": [
    {
     "data": {
      "text/plain": [
       "True"
      ]
     },
     "execution_count": 7,
     "metadata": {},
     "output_type": "execute_result"
    }
   ],
   "source": [
    "spam ={'cat':'billi mausi'}\n",
    "'cat' in spam"
   ]
  },
  {
   "cell_type": "code",
   "execution_count": 8,
   "metadata": {
    "colab": {
     "base_uri": "https://localhost:8080/"
    },
    "executionInfo": {
     "elapsed": 435,
     "status": "ok",
     "timestamp": 1626695804174,
     "user": {
      "displayName": "Yuno Clover",
      "photoUrl": "",
      "userId": "14793961318254159012"
     },
     "user_tz": -330
    },
    "id": "VnZO7b4mn9PT",
    "outputId": "af61072a-4850-4547-e81d-5cc34bd88b4f"
   },
   "outputs": [
    {
     "data": {
      "text/plain": [
       "False"
      ]
     },
     "execution_count": 8,
     "metadata": {},
     "output_type": "execute_result"
    }
   ],
   "source": [
    "spam ={'cat':100}\n",
    "'cat' in spam.values()"
   ]
  },
  {
   "cell_type": "markdown",
   "metadata": {},
   "source": [
    "'cat' in spam : checks whether the key 'cat' is present in the dictionary or not. <br>\n",
    "'cat' in spam.values() : checks for 'cat' in the values of dictionary spam."
   ]
  },
  {
   "cell_type": "markdown",
   "metadata": {
    "id": "69677woNoFf0"
   },
   "source": [
    "\n",
    "**7. What is a shortcut for the following code?**<br>\n",
    "\n",
    "**if 'color' not in spam:<br>\n",
    "    spam['color'] = 'black'**"
   ]
  },
  {
   "cell_type": "code",
   "execution_count": 12,
   "metadata": {
    "colab": {
     "base_uri": "https://localhost:8080/"
    },
    "executionInfo": {
     "elapsed": 440,
     "status": "ok",
     "timestamp": 1626695834778,
     "user": {
      "displayName": "Yuno Clover",
      "photoUrl": "",
      "userId": "14793961318254159012"
     },
     "user_tz": -330
    },
    "id": "7OrXfRPfn-yL",
    "outputId": "1317a9ba-101c-4ebc-bf8b-a10b47f7642e"
   },
   "outputs": [
    {
     "data": {
      "text/plain": [
       "{'cat': 'billi mausi', 'color': 'black'}"
      ]
     },
     "execution_count": 12,
     "metadata": {},
     "output_type": "execute_result"
    }
   ],
   "source": [
    "spam = {'cat':'billi mausi'}\n",
    "\n",
    "#shortcut\n",
    "spam['color'] = 'black'\n",
    "\n",
    "spam\n"
   ]
  },
  {
   "cell_type": "markdown",
   "metadata": {
    "id": "qhhOZRE7oWG6"
   },
   "source": [
    "\n",
    "**8. How do you 'pretty print' dictionary values using which module and function?**"
   ]
  },
  {
   "cell_type": "markdown",
   "metadata": {},
   "source": [
    "Using module **pprint** and **pprint** Function"
   ]
  },
  {
   "cell_type": "code",
   "execution_count": 25,
   "metadata": {
    "executionInfo": {
     "elapsed": 377,
     "status": "ok",
     "timestamp": 1626696011192,
     "user": {
      "displayName": "Yuno Clover",
      "photoUrl": "",
      "userId": "14793961318254159012"
     },
     "user_tz": -330
    },
    "id": "wZuxoeFQoJhI"
   },
   "outputs": [
    {
     "name": "stdout",
     "output_type": "stream",
     "text": [
      "[{'state': 'UP', 'city': ['Ballia', 'Varanasi', 'Prayagraj', 'Lucknow', 'Kanpur', 'Agra', 'Noida']}, {'state': 'Bihar', 'city': ['Buxar', 'Aara']}, {'state': 'Karnataka', 'city': ['Bengaluru', 'Mysore', 'Ooty', 'Shimoga']}]\n"
     ]
    }
   ],
   "source": [
    "from pprint import pprint\n",
    "\n",
    "India = [{'state':'UP', 'city':['Ballia','Varanasi','Prayagraj','Lucknow','Kanpur','Agra', 'Noida']},\n",
    "         {'state':'Bihar', 'city': ['Buxar', 'Aara']},\n",
    "         {'state':'Karnataka', 'city':['Bengaluru', 'Mysore','Ooty', 'Shimoga']}\n",
    "        ]\n",
    "print(India)"
   ]
  },
  {
   "cell_type": "code",
   "execution_count": 26,
   "metadata": {},
   "outputs": [
    {
     "name": "stdout",
     "output_type": "stream",
     "text": [
      "[{'city': ['Ballia',\n",
      "           'Varanasi',\n",
      "           'Prayagraj',\n",
      "           'Lucknow',\n",
      "           'Kanpur',\n",
      "           'Agra',\n",
      "           'Noida'],\n",
      "  'state': 'UP'},\n",
      " {'city': ['Buxar', 'Aara'], 'state': 'Bihar'},\n",
      " {'city': ['Bengaluru', 'Mysore', 'Ooty', 'Shimoga'], 'state': 'Karnataka'}]\n"
     ]
    }
   ],
   "source": [
    "pprint(India)"
   ]
  }
 ],
 "metadata": {
  "colab": {
   "authorship_tag": "ABX9TyPhVo4YsGgSX7YmanQsUi97",
   "collapsed_sections": [],
   "name": "Python Basics 5.ipynb",
   "provenance": []
  },
  "kernelspec": {
   "display_name": "Python 3 (ipykernel)",
   "language": "python",
   "name": "python3"
  },
  "language_info": {
   "codemirror_mode": {
    "name": "ipython",
    "version": 3
   },
   "file_extension": ".py",
   "mimetype": "text/x-python",
   "name": "python",
   "nbconvert_exporter": "python",
   "pygments_lexer": "ipython3",
   "version": "3.10.9"
  }
 },
 "nbformat": 4,
 "nbformat_minor": 1
}
