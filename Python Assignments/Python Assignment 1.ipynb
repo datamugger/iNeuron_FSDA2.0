{
 "cells": [
  {
   "cell_type": "markdown",
   "metadata": {},
   "source": [
    "# Python Assignment 1"
   ]
  },
  {
   "cell_type": "markdown",
   "metadata": {},
   "source": [
    "**Q1 . In the below elements which of them are values or an expression? eg:- values can be\n",
    "integer or string and expressions will be mathematical operators.**\n",
    "\n",
    "     1) * = operator  <br>\n",
    "     2) 'hello'= value  <br>\n",
    "     3) -87.8 = value <br>\n",
    "     4) - = operator <br>\n",
    "     5) / = operator  <br>\n",
    "     6) + = operator <br>\n",
    "     7) 6 = value  <br>\n"
   ]
  },
  {
   "cell_type": "markdown",
   "metadata": {},
   "source": [
    "**Q2. What is the difference between string and variable?**\n",
    "\n",
    "String is a data type, while Variables are containers for storing data values.\n",
    "\n",
    "For example name = \"Animesh\" , Here name is a <b>Variable<b> and \"Animesh\" is a <b>String<b>.\n",
    "      "
   ]
  },
  {
   "cell_type": "markdown",
   "metadata": {},
   "source": [
    "**Q3. Describe three different data types.**\n",
    "\n",
    "Text Type      :  str <br>\n",
    "Numeric Types  :  int, float, complex <br>\n",
    "Sequence Types :  list, tuple, range\n",
    "\n"
   ]
  },
  {
   "cell_type": "markdown",
   "metadata": {},
   "source": [
    "**Q4. What is an expression made up of? What do all expressions do?**\n",
    "\n",
    "An expression is a combination of values, variables, operators, and calls to functions. Expressions need to be evaluated. If you ask Python to print an expression, the interpreter evaluates the expression and displays the result."
   ]
  },
  {
   "cell_type": "markdown",
   "metadata": {},
   "source": [
    "**Q5. This assignment statements, like spam = 10. What is the difference between an\n",
    "expression and a statement?**\n",
    "\n",
    "A statement in Python is not evaluated for some results. An expression in Python is evaluated for some results. The execution of a statement changes the state of the variable. The expression evaluation does not result in any state change."
   ]
  },
  {
   "cell_type": "markdown",
   "metadata": {},
   "source": [
    "**Q6. After running the following code, what does the variable bacon contain?<br>\n",
    "bacon = 22 <br>\n",
    "bacon += 1**"
   ]
  },
  {
   "cell_type": "code",
   "execution_count": 1,
   "metadata": {},
   "outputs": [
    {
     "name": "stdout",
     "output_type": "stream",
     "text": [
      "23\n"
     ]
    }
   ],
   "source": [
    "bacon = 22\n",
    "bacon += 1\n",
    "print(bacon)"
   ]
  },
  {
   "cell_type": "markdown",
   "metadata": {},
   "source": [
    "**Q7. What should the values of the following two terms be?<br>\n",
    "'spam' + 'spamspam'<br>\n",
    "'spam' * 3**"
   ]
  },
  {
   "cell_type": "code",
   "execution_count": 2,
   "metadata": {},
   "outputs": [
    {
     "name": "stdout",
     "output_type": "stream",
     "text": [
      "spamspamspam\n",
      "spamspamspam\n"
     ]
    }
   ],
   "source": [
    "print('spam'+'spamspam')\n",
    "print('spam'*3)"
   ]
  },
  {
   "cell_type": "markdown",
   "metadata": {},
   "source": [
    "**Q8. Why is eggs a valid variable name while 100 is invalid?**\n",
    "\n",
    "According to rules in python: A variable name cannot start with a number, therefore 100 cannot be the variable name."
   ]
  },
  {
   "cell_type": "markdown",
   "metadata": {},
   "source": [
    "**Q9. What three functions can be used to get the integer, floating-point number, or string\n",
    "version of a value?**"
   ]
  },
  {
   "cell_type": "markdown",
   "metadata": {},
   "source": [
    "Below are the three functions that can be used for type casting a value to get it's integer, floating-point and string version.<br>\n",
    "1. int() <br>\n",
    "2. float() <br>\n",
    "3. str()"
   ]
  },
  {
   "cell_type": "code",
   "execution_count": 3,
   "metadata": {},
   "outputs": [
    {
     "name": "stdout",
     "output_type": "stream",
     "text": [
      "<class 'int'>\n",
      "<class 'float'>\n",
      "<class 'str'>\n"
     ]
    }
   ],
   "source": [
    "# Converting to integer\n",
    "int_value = int(10)\n",
    "print(type(int_value))\n",
    "\n",
    "#Converting to float\n",
    "float_value = float(10)\n",
    "print(type(float_value ))\n",
    "\n",
    "#Converting to String\n",
    "string_value = str(10)\n",
    "print(type(string_value))"
   ]
  },
  {
   "cell_type": "markdown",
   "metadata": {},
   "source": [
    "**Q10. Why does this expression cause an error? How can you fix it? <br>\n",
    "       'I have eaten ' + 99 + ' burritos.'**"
   ]
  },
  {
   "cell_type": "markdown",
   "metadata": {},
   "source": [
    "The above expression will cause an TypeError because 99 is an integer, and only strings can be concatenated to other strings \n",
    "with the + operator.<br>\n",
    "The correct way is 'I have eaten ' + str(99) + ' burritos.'."
   ]
  }
 ],
 "metadata": {
  "kernelspec": {
   "display_name": "Python 3 (ipykernel)",
   "language": "python",
   "name": "python3"
  },
  "language_info": {
   "codemirror_mode": {
    "name": "ipython",
    "version": 3
   },
   "file_extension": ".py",
   "mimetype": "text/x-python",
   "name": "python",
   "nbconvert_exporter": "python",
   "pygments_lexer": "ipython3",
   "version": "3.10.9"
  }
 },
 "nbformat": 4,
 "nbformat_minor": 4
}
