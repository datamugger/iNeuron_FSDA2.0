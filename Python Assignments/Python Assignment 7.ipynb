{
 "cells": [
  {
   "cell_type": "markdown",
   "id": "c9f95c83",
   "metadata": {},
   "source": [
    "# Python Assignment 7"
   ]
  },
  {
   "cell_type": "markdown",
   "id": "9beb1111",
   "metadata": {},
   "source": [
    "> **1. What is the name of the feature responsible for generating Regex objects?**"
   ]
  },
  {
   "cell_type": "markdown",
   "id": "b5f01a48",
   "metadata": {},
   "source": [
    "The re. compile() function returns Regex objects."
   ]
  },
  {
   "cell_type": "code",
   "execution_count": 1,
   "id": "b12016e8",
   "metadata": {},
   "outputs": [
    {
     "data": {
      "text/plain": [
       "re.compile(r'string', re.UNICODE)"
      ]
     },
     "execution_count": 1,
     "metadata": {},
     "output_type": "execute_result"
    }
   ],
   "source": [
    "import re\n",
    "re.compile(\"string\")"
   ]
  },
  {
   "cell_type": "markdown",
   "id": "f561065a",
   "metadata": {},
   "source": [
    "> **2. Why do raw strings often appear in Regex objects?**"
   ]
  },
  {
   "cell_type": "markdown",
   "id": "550b6587",
   "metadata": {},
   "source": [
    "Raw strings are particularly useful when working with regular expressions, as they allow you to specify patterns that may contain backslashes without having to escape them."
   ]
  },
  {
   "cell_type": "markdown",
   "id": "3d6f8378",
   "metadata": {},
   "source": [
    "> **3. What is the return value of the search() method?**"
   ]
  },
  {
   "cell_type": "markdown",
   "id": "1ba4e6c7",
   "metadata": {},
   "source": [
    "The search() method searches a string for a specified value, and returns the position of the match.\n",
    "\n",
    "The search value can be string or a regular expression. This method returns -1 if no match is found."
   ]
  },
  {
   "cell_type": "markdown",
   "id": "2d027f23",
   "metadata": {},
   "source": [
    "> **4. From a Match item, how do you get the actual strings that match the pattern?**"
   ]
  },
  {
   "cell_type": "code",
   "execution_count": 2,
   "id": "411cccb5",
   "metadata": {},
   "outputs": [
    {
     "name": "stdout",
     "output_type": "stream",
     "text": [
      "Phone number is: 345-444-4542\n"
     ]
    }
   ],
   "source": [
    "phoneNumRegex = re.compile(r'\\d\\d\\d-\\d\\d\\d-\\d\\d\\d\\d')\n",
    "\n",
    "mo = phoneNumRegex.search('My number is 345-444-4542.')\n",
    "\n",
    "# Calling matchingObject.group() will return the string.\n",
    "print('Phone number is: ' + mo.group())"
   ]
  },
  {
   "cell_type": "markdown",
   "id": "505c0e91",
   "metadata": {},
   "source": [
    "> **5. In the regex which created from the r'(\\d\\d\\d)-(\\d\\d\\d-\\d\\d\\d\\d)', what does group zero cover? Group 2? Group 1?**"
   ]
  },
  {
   "cell_type": "code",
   "execution_count": 3,
   "id": "1929cb99",
   "metadata": {},
   "outputs": [
    {
     "data": {
      "text/plain": [
       "'345'"
      ]
     },
     "execution_count": 3,
     "metadata": {},
     "output_type": "execute_result"
    }
   ],
   "source": [
    "phoneNumRegex = re.compile(r'(\\d\\d\\d)-(\\d\\d\\d-\\d\\d\\d\\d)')\n",
    "mo = phoneNumRegex.search('My number is 345-444-4542.')\n",
    "\n",
    "mo.group(1)"
   ]
  },
  {
   "cell_type": "code",
   "execution_count": 4,
   "id": "59e9f0ce",
   "metadata": {},
   "outputs": [
    {
     "data": {
      "text/plain": [
       "'444-4542'"
      ]
     },
     "execution_count": 4,
     "metadata": {},
     "output_type": "execute_result"
    }
   ],
   "source": [
    "mo.group(2)"
   ]
  },
  {
   "cell_type": "code",
   "execution_count": 5,
   "id": "081c3895",
   "metadata": {},
   "outputs": [
    {
     "data": {
      "text/plain": [
       "'345-444-4542'"
      ]
     },
     "execution_count": 5,
     "metadata": {},
     "output_type": "execute_result"
    }
   ],
   "source": [
    "mo.group(0)"
   ]
  },
  {
   "cell_type": "markdown",
   "id": "53afdea0",
   "metadata": {},
   "source": [
    "> **6. In standard expression syntax, parentheses and intervals have distinct meanings. How can you tell a regex that\n",
    "you want it to fit real parentheses and periods?**"
   ]
  },
  {
   "cell_type": "markdown",
   "id": "9d331501",
   "metadata": {},
   "source": [
    "Periods and parentheses can be escaped with a backslash: ., (, and )."
   ]
  },
  {
   "cell_type": "markdown",
   "id": "814677fd",
   "metadata": {},
   "source": [
    "> **7. The findall() method returns a string list or a list of string tuples. What causes it to return one of the two options?**"
   ]
  },
  {
   "cell_type": "markdown",
   "id": "eff54f4e",
   "metadata": {},
   "source": [
    "If the regex has no groups, a list of strings is returned. If the regex has groups, a list of tuples of strings is."
   ]
  },
  {
   "cell_type": "markdown",
   "id": "87ae02a1",
   "metadata": {},
   "source": [
    "> **8. In standard expressions, what does the | character mean?**"
   ]
  },
  {
   "cell_type": "markdown",
   "id": "650c2d46",
   "metadata": {},
   "source": [
    "The | character is called a pipe. You can use it anywhere you want to match one of many expressions.\n",
    "For example, the regular expression r'Cricket|Soccer Sport' will match either 'Cricket' or 'Soccer Sport'.\n",
    "\n",
    "When both Cricket and Soccer Sport occur in the searched string, the first occurrence of matching text will be returned as the Match object.\n",
    "\n",
    "The | character signifies matching “either, or” between two groups."
   ]
  },
  {
   "cell_type": "code",
   "execution_count": 6,
   "id": "f8cd4e8b",
   "metadata": {},
   "outputs": [
    {
     "data": {
      "text/plain": [
       "'Cricket'"
      ]
     },
     "execution_count": 6,
     "metadata": {},
     "output_type": "execute_result"
    }
   ],
   "source": [
    "SportRegex = re.compile (r'Cricket|Soccer Sport')\n",
    "s1 = SportRegex.search('Cricket and Soccer Sport')\n",
    "\n",
    "s1.group()"
   ]
  },
  {
   "cell_type": "code",
   "execution_count": 7,
   "id": "de5dc1a9",
   "metadata": {},
   "outputs": [
    {
     "data": {
      "text/plain": [
       "'Soccer Sport'"
      ]
     },
     "execution_count": 7,
     "metadata": {},
     "output_type": "execute_result"
    }
   ],
   "source": [
    "s2 = SportRegex.search('Soccer Sport and Cricket')\n",
    "\n",
    "s2.group()"
   ]
  },
  {
   "cell_type": "markdown",
   "id": "cd7d60b7",
   "metadata": {},
   "source": [
    "> **9. In regular expressions, what does the character stand for?**"
   ]
  },
  {
   "cell_type": "markdown",
   "id": "bbeb8e7b",
   "metadata": {},
   "source": [
    "The ? character can either mean “match zero or one of the preceding group”."
   ]
  },
  {
   "cell_type": "code",
   "execution_count": 8,
   "id": "bd9f7c0a",
   "metadata": {},
   "outputs": [
    {
     "data": {
      "text/plain": [
       "'Batman'"
      ]
     },
     "execution_count": 8,
     "metadata": {},
     "output_type": "execute_result"
    }
   ],
   "source": [
    "batRegex = re.compile(r'Bat(wo)?man')\n",
    "mo1 = batRegex.search('The Adventures of Batman')\n",
    "mo1.group()"
   ]
  },
  {
   "cell_type": "code",
   "execution_count": 9,
   "id": "936b3a0a",
   "metadata": {},
   "outputs": [
    {
     "data": {
      "text/plain": [
       "'Batwoman'"
      ]
     },
     "execution_count": 9,
     "metadata": {},
     "output_type": "execute_result"
    }
   ],
   "source": [
    "mo2 = batRegex.search('The Adventures of Batwoman')\n",
    "mo2.group()"
   ]
  },
  {
   "cell_type": "markdown",
   "id": "62d1c0e5",
   "metadata": {},
   "source": [
    "> **10. In regular expressions, what is the difference between the + and * characters?**"
   ]
  },
  {
   "cell_type": "markdown",
   "id": "fef8648d",
   "metadata": {},
   "source": [
    "The + matches one or more. The * matches zero or more."
   ]
  },
  {
   "cell_type": "markdown",
   "id": "957c5307",
   "metadata": {},
   "source": [
    "> **11. What is the difference between {4} and {4,5} in regular expression?**"
   ]
  },
  {
   "cell_type": "markdown",
   "id": "8e3e74df",
   "metadata": {},
   "source": [
    "* {3} matches exactly three instances of the preceding group.\n",
    "\n",
    "* {3,5} matches between three and five instances."
   ]
  },
  {
   "cell_type": "markdown",
   "id": "4215db46",
   "metadata": {},
   "source": [
    "> **12. What do you mean by the \\d, \\w, and \\s shorthand character classes signify in regular expressions?**"
   ]
  },
  {
   "cell_type": "markdown",
   "id": "2669dddb",
   "metadata": {},
   "source": [
    "* \\d, stands for single digit, Any numeric digit from 0 to 9.\n",
    "* \\w, stands for single word, Any letter, numeric digit, or the underscore character. (Think of this as matching “word” characters.)\n",
    "* \\s stands for single space character, Any space, tab, or newline character. (Think of this as matching “space” characters.)"
   ]
  },
  {
   "cell_type": "markdown",
   "id": "35ed1288",
   "metadata": {},
   "source": [
    "> **13. What do means by \\D, \\W, and \\S shorthand character classes signify in regular expressions?**"
   ]
  },
  {
   "cell_type": "markdown",
   "id": "bfa9978b",
   "metadata": {},
   "source": [
    "\\D - > Any character that is not a numeric digit from 0 to 9.<br>\n",
    "\\W - > Any character that is not a letter, numeric digit, or the underscore character.<br>\n",
    "\\S - > Any character that is not a space, tab, or newline."
   ]
  },
  {
   "cell_type": "markdown",
   "id": "028306ec",
   "metadata": {},
   "source": [
    "> **14. What is the difference between (.\\*) and (.\\*?)**"
   ]
  },
  {
   "cell_type": "markdown",
   "id": "1dd7f614",
   "metadata": {},
   "source": [
    "* (.*)  - The dot-star uses greedy mode: It will always try to match as much text as possible.\n",
    "\n",
    "* (.*?) -  The question mark in regex pattern denotes lazy mode, which means it will match the shortest string to satisfy the pattern.\n",
    "\n",
    "Example:\n",
    "For example we have a string as \"aabab\", if regex pattern is written as a.*b, then aabab is what we get. but if regex pattern is a.*?b, then we can get aab and ab as two results."
   ]
  },
  {
   "cell_type": "code",
   "execution_count": null,
   "id": "97454b3a",
   "metadata": {},
   "outputs": [],
   "source": [
    "greedyRegex = re.compile(r'<.*>')\n",
    "mo = greedyRegex.search(' for dinner.>')\n",
    "mo.group()"
   ]
  },
  {
   "cell_type": "code",
   "execution_count": null,
   "id": "6e1600f5",
   "metadata": {},
   "outputs": [],
   "source": [
    "nongreedyRegex = re.compile(r'<.*?>')\n",
    "mo = nongreedyRegex.search(' for dinner.>')\n",
    "mo.group()"
   ]
  },
  {
   "cell_type": "markdown",
   "id": "10a811d4",
   "metadata": {},
   "source": [
    "> **15. What is the syntax for matching both numbers and lowercase letters with a character class?**"
   ]
  },
  {
   "cell_type": "markdown",
   "id": "6043b5c8",
   "metadata": {},
   "source": [
    "Either [0-9a-z] or [a-z0-9]."
   ]
  },
  {
   "cell_type": "code",
   "execution_count": 12,
   "id": "b7ac1d56",
   "metadata": {},
   "outputs": [
    {
     "data": {
      "text/plain": [
       "'1'"
      ]
     },
     "execution_count": 12,
     "metadata": {},
     "output_type": "execute_result"
    }
   ],
   "source": [
    "reg1 = re.compile(r'[0-9a-z]')\n",
    "reg2 = re.compile(r'[a-z0-9]')\n",
    "\n",
    "mo1 = reg1.search('100 times I am Reading  this for 100 th time')\n",
    "mo1.group()"
   ]
  },
  {
   "cell_type": "code",
   "execution_count": 13,
   "id": "79acdb00",
   "metadata": {},
   "outputs": [
    {
     "data": {
      "text/plain": [
       "'t'"
      ]
     },
     "execution_count": 13,
     "metadata": {},
     "output_type": "execute_result"
    }
   ],
   "source": [
    "reg2 = re.compile(r'[a-z0-9]')\n",
    "\n",
    "mo1 = reg2.search('times I am Reading  this for 100 th time')\n",
    "mo1.group()"
   ]
  },
  {
   "cell_type": "markdown",
   "id": "efffe314",
   "metadata": {},
   "source": [
    "> **16. What is the procedure for making a normal expression in regax case insensitive?**"
   ]
  },
  {
   "cell_type": "markdown",
   "id": "182c39f2",
   "metadata": {},
   "source": [
    "Passing re.I or re.IGNORECASE as the second argument to re.compile() will make the matching case insensitive"
   ]
  },
  {
   "cell_type": "code",
   "execution_count": 14,
   "id": "0a98d210",
   "metadata": {},
   "outputs": [
    {
     "data": {
      "text/plain": [
       "'Machine'"
      ]
     },
     "execution_count": 14,
     "metadata": {},
     "output_type": "execute_result"
    }
   ],
   "source": [
    "casesen = re.compile(r'machine', re.I)\n",
    "casesen.search('Machine learning is part of data science').group()     "
   ]
  },
  {
   "cell_type": "code",
   "execution_count": 15,
   "id": "a8670bba",
   "metadata": {},
   "outputs": [
    {
     "data": {
      "text/plain": [
       "'MACHINE'"
      ]
     },
     "execution_count": 15,
     "metadata": {},
     "output_type": "execute_result"
    }
   ],
   "source": [
    "casesen.search('MACHINE is learning.').group()"
   ]
  },
  {
   "cell_type": "markdown",
   "id": "02d9dc97",
   "metadata": {},
   "source": [
    "> **17. What does the . character normally match? What does it match if re.DOTALL is passed as 2nd argument in re.compile()?**"
   ]
  },
  {
   "cell_type": "markdown",
   "id": "ddd89480",
   "metadata": {},
   "source": [
    "The . character normally matches any character except the newline character.\n",
    "\n",
    "If re.DOTALL is passed as the second argument to re.compile(), then the dot will also match newline characters."
   ]
  },
  {
   "cell_type": "markdown",
   "id": "17033f01",
   "metadata": {},
   "source": [
    "> **18. If numReg = re.compile(r'\\d+'), what will numRegex.sub('X', '11 drummers, 10 pipers, five rings, 4 hen') return?**"
   ]
  },
  {
   "cell_type": "code",
   "execution_count": 16,
   "id": "77611c97",
   "metadata": {},
   "outputs": [
    {
     "data": {
      "text/plain": [
       "'X drummers, X pipers, five rings, X hen'"
      ]
     },
     "execution_count": 16,
     "metadata": {},
     "output_type": "execute_result"
    }
   ],
   "source": [
    "numRegex = re.compile(r'\\d+')\n",
    "mo = numRegex.sub('X', '11 drummers, 10 pipers, five rings, 4 hen')\n",
    "mo"
   ]
  },
  {
   "cell_type": "markdown",
   "id": "9acce8cf",
   "metadata": {},
   "source": [
    "> **19. What does passing re.VERBOSE as the 2nd argument to re.compile() allow to do?**"
   ]
  },
  {
   "cell_type": "markdown",
   "id": "a2987108",
   "metadata": {},
   "source": [
    "The re.VERBOSE argument allows you to add whitespace and comments to the string passed to re.compile()"
   ]
  },
  {
   "cell_type": "markdown",
   "id": "51c7c41f",
   "metadata": {},
   "source": [
    "> **20. How would you write a regex that match a number with comma for every three digits? It must match the given following:**\n",
    "'42' <br>\n",
    "'1,234'<br>\n",
    "'6,368,745'<br>\n",
    "but not the following:<br>\n",
    "'12,34,567' (which has only two digits between the commas)<br>\n",
    "'1234' (which lacks commas)"
   ]
  },
  {
   "cell_type": "code",
   "execution_count": 17,
   "id": "94aef578",
   "metadata": {},
   "outputs": [
    {
     "data": {
      "text/plain": [
       "'42'"
      ]
     },
     "execution_count": 17,
     "metadata": {},
     "output_type": "execute_result"
    }
   ],
   "source": [
    "reg1 = re.compile(r'^\\d{1,3}(,\\d{3})*$')\n",
    "mo1 = reg1.search('42')\n",
    "mo1.group()"
   ]
  },
  {
   "cell_type": "code",
   "execution_count": 18,
   "id": "9e0c2eef",
   "metadata": {},
   "outputs": [
    {
     "data": {
      "text/plain": [
       "'1,234'"
      ]
     },
     "execution_count": 18,
     "metadata": {},
     "output_type": "execute_result"
    }
   ],
   "source": [
    "reg1 = re.compile(r'^\\d{1,3}(,\\d{3})*$')\n",
    "mo1 = reg1.search('1,234')\n",
    "mo1.group()"
   ]
  },
  {
   "cell_type": "code",
   "execution_count": 19,
   "id": "127a1da6",
   "metadata": {},
   "outputs": [
    {
     "data": {
      "text/plain": [
       "'6,368,745'"
      ]
     },
     "execution_count": 19,
     "metadata": {},
     "output_type": "execute_result"
    }
   ],
   "source": [
    "reg1 = re.compile(r'^\\d{1,3}(,\\d{3})*$')\n",
    "mo1 = reg1.search('6,368,745')\n",
    "mo1.group()"
   ]
  },
  {
   "cell_type": "markdown",
   "id": "ef681270",
   "metadata": {},
   "source": [
    "> **22. How would you write a regex that matches a sentence where the first word is either Alice, Bob, or Carol; \n",
    "the second word is either eats, pets, or throws; the third word is apples, cats, or baseballs; and the sentence \n",
    "ends with a period? This regex should be case-insensitive. It must match the following:**<br>\n",
    "'Alice eats apples.'<br>\n",
    "'Bob pets cats.'<br>\n",
    "'Carol throws baseballs.'<br>\n",
    "'Alice throws Apples.'<br>\n",
    "'BOB EATS CATS.'<br>\n",
    "but not the following:<br>\n",
    "'RoboCop eats apples.'<br>\n",
    "'ALICE THROWS FOOTBALLS.'<br>\n",
    "'Carol eats 7 cats.'\n"
   ]
  },
  {
   "cell_type": "code",
   "execution_count": 20,
   "id": "66caec5e",
   "metadata": {},
   "outputs": [
    {
     "data": {
      "text/plain": [
       "'Alice eats apples.'"
      ]
     },
     "execution_count": 20,
     "metadata": {},
     "output_type": "execute_result"
    }
   ],
   "source": [
    "name = re.compile(r'(Alice|Bob|Carol)\\s(eats|pets|throws)\\s(apples|cats|baseballs)\\.', re.IGNORECASE)\n",
    "\n",
    "mo1 = name.search('Alice eats apples.')\n",
    "mo1.group()"
   ]
  },
  {
   "cell_type": "code",
   "execution_count": 21,
   "id": "2e5410d7",
   "metadata": {},
   "outputs": [
    {
     "data": {
      "text/plain": [
       "'Carol throws baseballs.'"
      ]
     },
     "execution_count": 21,
     "metadata": {},
     "output_type": "execute_result"
    }
   ],
   "source": [
    "name = re.compile(r'(Alice|Bob|Carol)\\s(eats|pets|throws)\\s(apples|cats|baseballs)\\.', re.IGNORECASE)\n",
    "\n",
    "mo1 = name.search('Carol throws baseballs.')\n",
    "mo1.group()"
   ]
  }
 ],
 "metadata": {
  "kernelspec": {
   "display_name": "Python 3 (ipykernel)",
   "language": "python",
   "name": "python3"
  },
  "language_info": {
   "codemirror_mode": {
    "name": "ipython",
    "version": 3
   },
   "file_extension": ".py",
   "mimetype": "text/x-python",
   "name": "python",
   "nbconvert_exporter": "python",
   "pygments_lexer": "ipython3",
   "version": "3.11.1"
  }
 },
 "nbformat": 4,
 "nbformat_minor": 5
}
