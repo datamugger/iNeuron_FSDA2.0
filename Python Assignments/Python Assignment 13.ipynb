{
 "cells": [
  {
   "cell_type": "markdown",
   "metadata": {
    "id": "_L5-afdO3b5m"
   },
   "source": [
    "# Python Assignment 13"
   ]
  },
  {
   "cell_type": "markdown",
   "metadata": {
    "id": "6aHs0S-Q5HO9"
   },
   "source": [
    "> **1. What advantages do Excel spreadsheets have over CSV spreadsheets?**"
   ]
  },
  {
   "cell_type": "markdown",
   "metadata": {
    "id": "0fJfFBZv5Lyv"
   },
   "source": [
    "* It is a binary file that holds information about all the worksheets in a workbook.\n",
    "* An Excel not only stores data but can also do operations on the data.\n",
    "* Files saved in excel cannot be opened or edited by text editors.\n",
    "* Large files usage is much easier in Excel for the end user. Also, \n",
    "    you can have additional functions like selecting individual cells for import, \n",
    "    convert dates and time automatically, reading formulas and their results, filters, sorting, etc,\n",
    "* Apart from text, data can also be stored and represented in the form of charts and graphs.\n",
    "* Excel can connect to external data sources to fetch data. You can use custom add-in in Excel to increase its functionality. \n",
    "* Excel allows for Review of Data with detailed tracking and commenting feature.\n",
    "* In Excel, spreadsheets can have values of data types other than strings; cells can have different fonts, sizes, \n",
    "   or color settings; cells can have varying widths and heights; adjacent cells can be merged."
   ]
  },
  {
   "cell_type": "markdown",
   "metadata": {
    "id": "un0JNTPY5eyr"
   },
   "source": [
    "> **2. What do you pass to csv.reader() and csv.writer() to create reader and writer objects?**"
   ]
  },
  {
   "cell_type": "code",
   "execution_count": null,
   "metadata": {
    "id": "qxzuuJzW50XJ"
   },
   "outputs": [],
   "source": [
    "# We pass a File object that we got from calling open().\n",
    "\n",
    "import csv\n",
    "\n",
    "file_csv = open('file_name.csv')\n",
    "filereader = csv.reader(file_csv)\n",
    "fileData = list(filereader)\n",
    "fileData"
   ]
  },
  {
   "cell_type": "markdown",
   "metadata": {
    "id": "CO6RFyUE6MIl"
   },
   "source": [
    "> **3. What modes do File objects for reader and writer objects need to be opened in?**"
   ]
  },
  {
   "cell_type": "markdown",
   "metadata": {
    "id": "DWsRChgn6Qvq"
   },
   "source": [
    "File objects need to be opened in read-binary ('rb') for Reader objects and write-binary ('wb') for Writer objects."
   ]
  },
  {
   "cell_type": "markdown",
   "metadata": {
    "id": "Z24eWIZs6aql"
   },
   "source": [
    "> **4. What method takes a list argument and writes it to a CSV file?**"
   ]
  },
  {
   "cell_type": "markdown",
   "metadata": {},
   "source": [
    "The most common method to write data from a list to CSV file is the **writerow()** method of writer and **DictWriter class**."
   ]
  },
  {
   "cell_type": "code",
   "execution_count": null,
   "metadata": {
    "id": "K2WuwrYr5teI"
   },
   "outputs": [],
   "source": [
    "# Importing library\n",
    "import csv\n",
    " \n",
    "# data to be written row-wise in csv file\n",
    "data = [['Geeks'], [4], ['geeks !']]\n",
    " \n",
    "# opening the csv file in 'w+' mode\n",
    "file = open('g4g.csv', 'w+', newline ='')\n",
    " \n",
    "# writing the data into the file\n",
    "with file:   \n",
    "    write = csv.writer(file)\n",
    "    write.writerows(data)"
   ]
  },
  {
   "cell_type": "markdown",
   "metadata": {
    "id": "Q5QdajEL6-E6"
   },
   "source": [
    "> **5. What do the keyword arguments delimiter and line terminator do?**"
   ]
  },
  {
   "cell_type": "markdown",
   "metadata": {
    "id": "WTdj-swg7Cdu"
   },
   "source": [
    "*  The delimiter argument changes the string used to separate cells in a row. \n",
    "*  The line terminator argument changes the string used to separate rows."
   ]
  },
  {
   "cell_type": "markdown",
   "metadata": {
    "id": "RtYeY87Z7TAc"
   },
   "source": [
    "> **6. What function takes a string of JSON data and returns a Python data structure?**"
   ]
  },
  {
   "cell_type": "markdown",
   "metadata": {
    "id": "M8o40I_J7S9C"
   },
   "source": [
    "json.loads()"
   ]
  },
  {
   "cell_type": "markdown",
   "metadata": {
    "id": "dBI-0hU97S6t"
   },
   "source": [
    "> **7. What function takes a Python data structure and returns a string of JSON data?**"
   ]
  },
  {
   "cell_type": "markdown",
   "metadata": {
    "id": "F-jO8S4t7S4T"
   },
   "source": [
    "json.dumps()"
   ]
  }
 ],
 "metadata": {
  "colab": {
   "authorship_tag": "ABX9TyN4YvZLP3A9oK2lfNkwENcd",
   "collapsed_sections": [],
   "name": "Python Basic Assignment 13.ipynb",
   "provenance": []
  },
  "kernelspec": {
   "display_name": "Python 3 (ipykernel)",
   "language": "python",
   "name": "python3"
  },
  "language_info": {
   "codemirror_mode": {
    "name": "ipython",
    "version": 3
   },
   "file_extension": ".py",
   "mimetype": "text/x-python",
   "name": "python",
   "nbconvert_exporter": "python",
   "pygments_lexer": "ipython3",
   "version": "3.10.9"
  }
 },
 "nbformat": 4,
 "nbformat_minor": 1
}
