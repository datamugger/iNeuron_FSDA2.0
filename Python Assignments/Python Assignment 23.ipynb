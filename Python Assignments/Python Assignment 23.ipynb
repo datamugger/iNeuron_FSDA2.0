{
 "cells": [
  {
   "cell_type": "markdown",
   "metadata": {
    "id": "ER743csXaR2h"
   },
   "source": [
    "# Python Assignment 23"
   ]
  },
  {
   "cell_type": "markdown",
   "metadata": {
    "id": "5S7mq9gcaiEx"
   },
   "source": [
    "> **1. What is the result of the code, and why?**\n",
    "\n",
    "&gt;&gt;&gt; def func(a, b=6, c=8):<br>\n",
    "print(a, b, c)<br>\n",
    "&gt;&gt;&gt; func(1, 2)"
   ]
  },
  {
   "cell_type": "code",
   "execution_count": 2,
   "metadata": {
    "colab": {
     "base_uri": "https://localhost:8080/"
    },
    "executionInfo": {
     "elapsed": 425,
     "status": "ok",
     "timestamp": 1627044640215,
     "user": {
      "displayName": "Yuno Clover",
      "photoUrl": "",
      "userId": "14793961318254159012"
     },
     "user_tz": -330
    },
    "id": "cPO1h8ZMaKr1",
    "outputId": "d38ecb09-641c-4d68-9e0d-461093766ff6"
   },
   "outputs": [
    {
     "name": "stdout",
     "output_type": "stream",
     "text": [
      "1 2 8\n"
     ]
    }
   ],
   "source": [
    "def func(a, b=6, c=8):\n",
    "    print(a, b, c)\n",
    "\n",
    "func(1, 2)"
   ]
  },
  {
   "cell_type": "markdown",
   "metadata": {},
   "source": [
    "This funtion is taking a positional argument and 2 keyward argument. When function call m=is made, parameter passed \n",
    "are a=1,b=2. When the function is executed , parameter c=8 will be taken by default as its a keyword argument.\n",
    "Solution is = 1,2,8"
   ]
  },
  {
   "cell_type": "markdown",
   "metadata": {
    "id": "P8EblAlGa0CT"
   },
   "source": [
    "> **2. What is the result of this code, and why?**\n",
    "\n",
    "&gt;&gt;&gt; def func(a, b, c=5):<br>\n",
    "print(a, b, c)<br>\n",
    "&gt;&gt;&gt; func(1, c=3, b=2)"
   ]
  },
  {
   "cell_type": "code",
   "execution_count": 3,
   "metadata": {
    "colab": {
     "base_uri": "https://localhost:8080/"
    },
    "executionInfo": {
     "elapsed": 405,
     "status": "ok",
     "timestamp": 1627044695121,
     "user": {
      "displayName": "Yuno Clover",
      "photoUrl": "",
      "userId": "14793961318254159012"
     },
     "user_tz": -330
    },
    "id": "PblQTU8xan2R",
    "outputId": "061c840a-0dbf-4c57-bfed-9f7205f1c72e"
   },
   "outputs": [
    {
     "name": "stdout",
     "output_type": "stream",
     "text": [
      "1 2 3\n"
     ]
    }
   ],
   "source": [
    "def func(a, b, c=5):\n",
    "    print(a, b, c)\n",
    "\n",
    "func(1, c=3, b=2)"
   ]
  },
  {
   "cell_type": "markdown",
   "metadata": {},
   "source": [
    "When we make function call, order will be positional argument and then keywords arguments. We can pass the keyword arguments \n",
    "in any order we want.\n",
    "\n",
    "Solution is 1,2,3"
   ]
  },
  {
   "cell_type": "markdown",
   "metadata": {
    "id": "6YCY_v6hbA3O"
   },
   "source": [
    "> **3. How about this code: what is its result, and why?**\n",
    "\n",
    "&gt;&gt;&gt; def func(a, *pargs):<br>\n",
    "print(a, pargs)<br>\n",
    "&gt;&gt;&gt; func(1, 2, 3)"
   ]
  },
  {
   "cell_type": "code",
   "execution_count": 4,
   "metadata": {
    "colab": {
     "base_uri": "https://localhost:8080/"
    },
    "executionInfo": {
     "elapsed": 413,
     "status": "ok",
     "timestamp": 1627044851257,
     "user": {
      "displayName": "Yuno Clover",
      "photoUrl": "",
      "userId": "14793961318254159012"
     },
     "user_tz": -330
    },
    "id": "gbg93jB8a8a4",
    "outputId": "4cd83ac6-83b3-4dc3-9834-bd09cf43f89c"
   },
   "outputs": [
    {
     "name": "stdout",
     "output_type": "stream",
     "text": [
      "1 (2, 3)\n"
     ]
    }
   ],
   "source": [
    "def func(a, *pargs):\n",
    "    print(a, pargs)\n",
    "\n",
    "func(1, 2, 3)"
   ]
  },
  {
   "cell_type": "markdown",
   "metadata": {},
   "source": [
    "The return type of *args parameter is tuple, where as **kargs will be dictionary.\n",
    "\n",
    "Solution is = 1,(2,3)"
   ]
  },
  {
   "cell_type": "markdown",
   "metadata": {
    "id": "kyLEJlVRbyUR"
   },
   "source": [
    "> **4. What does this code print, and why?**\n",
    "\n",
    "&gt;&gt;&gt; def func(a, **kargs):<br>\n",
    "print(a, kargs)<br>\n",
    "&gt;&gt;&gt; func(a=1, c=3, b=2)"
   ]
  },
  {
   "cell_type": "code",
   "execution_count": 6,
   "metadata": {
    "colab": {
     "base_uri": "https://localhost:8080/"
    },
    "executionInfo": {
     "elapsed": 402,
     "status": "ok",
     "timestamp": 1627044949774,
     "user": {
      "displayName": "Yuno Clover",
      "photoUrl": "",
      "userId": "14793961318254159012"
     },
     "user_tz": -330
    },
    "id": "1EbHEKxabin1",
    "outputId": "6298a9ce-e4b9-4ab2-f467-9166cfb92658"
   },
   "outputs": [
    {
     "name": "stdout",
     "output_type": "stream",
     "text": [
      "1 {'c': 3, 'b': 2}\n"
     ]
    }
   ],
   "source": [
    "def func(a, **kargs):\n",
    "    print(a, kargs)\n",
    "\n",
    "func(a=1, c=3, b=2)"
   ]
  },
  {
   "cell_type": "markdown",
   "metadata": {},
   "source": [
    "The return type of  **kargs is  dictionary.\n",
    "\n",
    "Solution is = 1,{'c':3,'b':2}"
   ]
  },
  {
   "cell_type": "markdown",
   "metadata": {
    "id": "3-OobHk1b_ee"
   },
   "source": [
    "> **5. What gets printed by this, and explain?**\n",
    "\n",
    "&gt;&gt;&gt; def func(a, b, c=8, d=5): print(a, b, c, d)<br>\n",
    "&gt;&gt;&gt; func(1, *(5, 6))"
   ]
  },
  {
   "cell_type": "code",
   "execution_count": 8,
   "metadata": {
    "colab": {
     "base_uri": "https://localhost:8080/"
    },
    "executionInfo": {
     "elapsed": 412,
     "status": "ok",
     "timestamp": 1627045002859,
     "user": {
      "displayName": "Yuno Clover",
      "photoUrl": "",
      "userId": "14793961318254159012"
     },
     "user_tz": -330
    },
    "id": "LItfYNlPb1dK",
    "outputId": "5fa33571-499d-4513-e51c-32541fafe6fe"
   },
   "outputs": [
    {
     "name": "stdout",
     "output_type": "stream",
     "text": [
      "1 5 6 5\n"
     ]
    }
   ],
   "source": [
    "def func(a, b, c=8, d=5): \n",
    "    print(a, b, c, d)\n",
    "\n",
    "func(1, *(5, 6))"
   ]
  },
  {
   "cell_type": "markdown",
   "metadata": {},
   "source": [
    "'*' is the unpacking operator and are operators that unpack the values from iterable objects in Python. The single \n",
    "asterisk operator * can be used on any iterable that Python provides, while the double asterisk operator ** can only \n",
    "be used on dictionaries. In the example the value *(5,6) will be unpacked and will be assigned to b and c and passed \n",
    "as arguments, d =5 will taken by defaults are keyword arguments.\n",
    "\n",
    "Solution 1,5,6,5"
   ]
  },
  {
   "cell_type": "markdown",
   "metadata": {
    "id": "vO5IEZ36cLjZ"
   },
   "source": [
    "> **6. what is the result of this, and explain?**\n",
    "\n",
    "&gt;&gt;&gt; def func(a, b, c): a = 2; b[0] = &#39;x&#39;; c[&#39;a&#39;] = &#39;y&#39; <br>\n",
    "&gt;&gt;&gt; l=1; m=[1]; n={&#39;a&#39;:0}<br>\n",
    "&gt;&gt;&gt; func(l, m, n)<br>\n",
    "\n",
    "&gt;&gt;&gt; l, m, n"
   ]
  },
  {
   "cell_type": "code",
   "execution_count": 10,
   "metadata": {
    "colab": {
     "base_uri": "https://localhost:8080/"
    },
    "executionInfo": {
     "elapsed": 406,
     "status": "ok",
     "timestamp": 1627045138586,
     "user": {
      "displayName": "Yuno Clover",
      "photoUrl": "",
      "userId": "14793961318254159012"
     },
     "user_tz": -330
    },
    "id": "TZyc7gm3cCYH",
    "outputId": "c7407852-1684-4c4b-9011-3ab923b0c0c4"
   },
   "outputs": [
    {
     "data": {
      "text/plain": [
       "(1, ['x'], {'a': 'y'})"
      ]
     },
     "execution_count": 10,
     "metadata": {
      "tags": []
     },
     "output_type": "execute_result"
    }
   ],
   "source": [
    "def func(a, b, c): \n",
    "    a = 2; b[0] = 'x'; c['a'] = 'y'\n",
    "    \n",
    "l = 1; m = [1]; n = {'a':0}\n",
    "func(l, m, n)\n",
    "\n",
    "l, m, n"
   ]
  },
  {
   "cell_type": "markdown",
   "metadata": {},
   "source": [
    "Here in the code, the list and dict are passed as argument, and those are mutable. Here the list l and parameter b point \n",
    "to the same list in the memory location where as dict n and c point to the same memory location. Any updates to this \n",
    "list will update in the memory location\n",
    "\n",
    "l = 1 , integer values, immutable, m is list, mutable, n is dict, mutable.\n",
    "\n",
    "Output will be = 1,['x'],{'a':'y'}"
   ]
  }
 ],
 "metadata": {
  "colab": {
   "authorship_tag": "ABX9TyMPfVDQck/iu2cAS+gm7Kt/",
   "collapsed_sections": [],
   "name": "Python Basic 23.ipynb",
   "provenance": []
  },
  "kernelspec": {
   "display_name": "Python 3 (ipykernel)",
   "language": "python",
   "name": "python3"
  },
  "language_info": {
   "name": "python"
  }
 },
 "nbformat": 4,
 "nbformat_minor": 1
}
