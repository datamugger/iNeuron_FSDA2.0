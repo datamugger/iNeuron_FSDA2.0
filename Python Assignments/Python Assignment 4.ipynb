{
 "cells": [
  {
   "cell_type": "markdown",
   "id": "6daa9977",
   "metadata": {},
   "source": [
    "# Python Assignment 4"
   ]
  },
  {
   "cell_type": "markdown",
   "id": "5118eaf3",
   "metadata": {},
   "source": [
    "**1. What exactly is []?**"
   ]
  },
  {
   "cell_type": "markdown",
   "id": "bb664cd4",
   "metadata": {},
   "source": [
    "[] is used to create an empty list. It is also used to access items in a sequence (list, tuple, set, dictionary)."
   ]
  },
  {
   "cell_type": "markdown",
   "id": "8033e441",
   "metadata": {},
   "source": [
    "**2. In a list of values stored in a variable called spam, how would you assign the value 'hello' as the third value? \n",
    "(Assume [2, 4, 6, 8, 10] are in spam.)**"
   ]
  },
  {
   "cell_type": "code",
   "execution_count": 2,
   "id": "7a5d955f",
   "metadata": {},
   "outputs": [
    {
     "data": {
      "text/plain": [
       "[2, 4, 'hello', 8, 10]"
      ]
     },
     "execution_count": 2,
     "metadata": {},
     "output_type": "execute_result"
    }
   ],
   "source": [
    "# solution by changing the value in index 3\n",
    "spam = [2, 4, 6, 8, 10]\n",
    "spam[2] = 'hello'\n",
    "spam"
   ]
  },
  {
   "cell_type": "code",
   "execution_count": 4,
   "id": "dad32dca",
   "metadata": {},
   "outputs": [
    {
     "name": "stdout",
     "output_type": "stream",
     "text": [
      "[2, 4, 'hello', 6, 8, 10]\n"
     ]
    }
   ],
   "source": [
    "#Using insert() Function.\n",
    "spam = [2, 4, 6, 8, 10]\n",
    "spam.insert(2,'hello')\n",
    "print(spam)"
   ]
  },
  {
   "cell_type": "markdown",
   "id": "0142c909",
   "metadata": {},
   "source": [
    "**Let's pretend the spam includes the list ['a', 'b', 'c', 'd'] for the next three queries.**"
   ]
  },
  {
   "cell_type": "code",
   "execution_count": 11,
   "id": "d4102f5c",
   "metadata": {},
   "outputs": [],
   "source": [
    " spam = ['a', 'b', 'c', 'd'] "
   ]
  },
  {
   "cell_type": "markdown",
   "id": "d5727f42",
   "metadata": {},
   "source": [
    "**3. What is the value of spam[int(int('3' * 2) / 11)]?**"
   ]
  },
  {
   "cell_type": "code",
   "execution_count": 12,
   "id": "5aea39c6",
   "metadata": {},
   "outputs": [
    {
     "data": {
      "text/plain": [
       "'d'"
      ]
     },
     "execution_count": 12,
     "metadata": {},
     "output_type": "execute_result"
    }
   ],
   "source": [
    "\n",
    "spam[int(int('3' * 2) / 11)]"
   ]
  },
  {
   "cell_type": "markdown",
   "id": "6634ab05",
   "metadata": {},
   "source": [
    "**4. What is the value of spam[-1]?**"
   ]
  },
  {
   "cell_type": "code",
   "execution_count": 13,
   "id": "69696ca0",
   "metadata": {},
   "outputs": [
    {
     "data": {
      "text/plain": [
       "'d'"
      ]
     },
     "execution_count": 13,
     "metadata": {},
     "output_type": "execute_result"
    }
   ],
   "source": [
    "spam[-1]"
   ]
  },
  {
   "cell_type": "markdown",
   "id": "ee13b461",
   "metadata": {},
   "source": [
    "**5. What is the value of spam[:2]?**"
   ]
  },
  {
   "cell_type": "code",
   "execution_count": 14,
   "id": "98828447",
   "metadata": {},
   "outputs": [
    {
     "data": {
      "text/plain": [
       "['a', 'b']"
      ]
     },
     "execution_count": 14,
     "metadata": {},
     "output_type": "execute_result"
    }
   ],
   "source": [
    "spam[:2]"
   ]
  },
  {
   "cell_type": "markdown",
   "id": "e01c3a67",
   "metadata": {},
   "source": [
    "**Let's pretend bacon has the list [3.14, 'cat', 11, 'cat', True] for the next three questions.**"
   ]
  },
  {
   "cell_type": "code",
   "execution_count": 19,
   "id": "38f348db",
   "metadata": {},
   "outputs": [],
   "source": [
    "bacon = [3.14, 'cat', 11, 'cat', True]"
   ]
  },
  {
   "cell_type": "markdown",
   "id": "af77598b",
   "metadata": {},
   "source": [
    "**6. What is the value of bacon.index('cat')?**"
   ]
  },
  {
   "cell_type": "code",
   "execution_count": 20,
   "id": "9bad2144",
   "metadata": {},
   "outputs": [
    {
     "data": {
      "text/plain": [
       "1"
      ]
     },
     "execution_count": 20,
     "metadata": {},
     "output_type": "execute_result"
    }
   ],
   "source": [
    "bacon.index('cat') # it returns the index of first occurrence of 'cat'"
   ]
  },
  {
   "cell_type": "markdown",
   "id": "f5333d15",
   "metadata": {},
   "source": [
    "**7. How does bacon.append(99) change the look of the list value in bacon?**"
   ]
  },
  {
   "cell_type": "code",
   "execution_count": 21,
   "id": "7196f6e0",
   "metadata": {},
   "outputs": [
    {
     "data": {
      "text/plain": [
       "[3.14, 'cat', 11, 'cat', True, 99]"
      ]
     },
     "execution_count": 21,
     "metadata": {},
     "output_type": "execute_result"
    }
   ],
   "source": [
    "bacon.append(99) # append adds the item at the end of the list\n",
    "bacon"
   ]
  },
  {
   "cell_type": "markdown",
   "id": "8d6da06b",
   "metadata": {},
   "source": [
    "**8. How does bacon.remove('cat') change the look of the list in bacon?**"
   ]
  },
  {
   "cell_type": "code",
   "execution_count": 22,
   "id": "eb262d3f",
   "metadata": {},
   "outputs": [
    {
     "data": {
      "text/plain": [
       "[3.14, 11, 'cat', True, 99]"
      ]
     },
     "execution_count": 22,
     "metadata": {},
     "output_type": "execute_result"
    }
   ],
   "source": [
    "bacon.remove('cat') # remove first occurrence of item\n",
    "bacon"
   ]
  },
  {
   "cell_type": "markdown",
   "id": "5c2794b2",
   "metadata": {},
   "source": [
    "**9. What are the list concatenation and list replication operators?**"
   ]
  },
  {
   "cell_type": "markdown",
   "id": "316dabe7",
   "metadata": {},
   "source": [
    "The operator for list concatenation is +, while the operator for replication is *."
   ]
  },
  {
   "cell_type": "code",
   "execution_count": 25,
   "id": "58b0c5ca",
   "metadata": {},
   "outputs": [
    {
     "name": "stdout",
     "output_type": "stream",
     "text": [
      "[1, 2, 1, 2]\n"
     ]
    },
    {
     "data": {
      "text/plain": [
       "[1, 2, 1, 2, 1, 2]"
      ]
     },
     "execution_count": 25,
     "metadata": {},
     "output_type": "execute_result"
    }
   ],
   "source": [
    "lc = [1,2]\n",
    "lr = [1,2]\n",
    "\n",
    "# list concatenation\n",
    "lc = lc + lc\n",
    "print(lc)\n",
    "\n",
    "# list replication\n",
    "lr = lr * 3\n",
    "lr"
   ]
  },
  {
   "cell_type": "markdown",
   "id": "39cc5474",
   "metadata": {},
   "source": [
    "**10. What is difference between the list methods append() and insert()?**"
   ]
  },
  {
   "cell_type": "markdown",
   "id": "e8890ebb",
   "metadata": {},
   "source": [
    "**append()**: add the item at the end of the list.<br>\n",
    "**insert()**: add the item at the given index of the list."
   ]
  },
  {
   "cell_type": "markdown",
   "id": "78fbb51d",
   "metadata": {},
   "source": [
    "**11. What are the two methods for removing items from a list?**"
   ]
  },
  {
   "cell_type": "markdown",
   "id": "5824bb71",
   "metadata": {},
   "source": [
    "remove(): Removes first occurence of the item from the list. <br>\n",
    "pop(): Remove and returns item at given index (default last)."
   ]
  },
  {
   "cell_type": "markdown",
   "id": "81410a2a",
   "metadata": {},
   "source": [
    "**12. Describe how list values and string values are identical.**"
   ]
  },
  {
   "cell_type": "markdown",
   "id": "d091556b",
   "metadata": {},
   "source": [
    "1. Both lists and strings can be passed to len()\n",
    "2. Have indexes and slices\n",
    "3. Can be used in for loops\n",
    "4. Can be concatenated or replicated\n",
    "5. Can be used with the in and not in operators"
   ]
  },
  {
   "cell_type": "markdown",
   "id": "bce9e26b",
   "metadata": {},
   "source": [
    "**13. What's the difference between tuples and lists?**"
   ]
  },
  {
   "cell_type": "raw",
   "id": "419fd159",
   "metadata": {},
   "source": [
    "    Python Lists                                               Python Tuples\n",
    "1. List are mutable.                          Tuples are immutable.\n",
    "\n",
    "2. Iterations are time-consuming.             Iterations are comparatively Faster.\n",
    "\n",
    "3. Inserting and deleting items is            Accessing the elements is best \n",
    "   easier with a list.                        accomplished with a tuple data type.\n",
    "   \n",
    "4. Lists consume more memory                  Tuple consumes less than the list.\n",
    "\n",
    "5. Lists have several built-in methods.       A tuple does not have many built-in methods                                                                                     because of immutability.\n",
    "\n",
    "6. A unexpected change or error is            In a tuple, changes and errors don’t\n",
    "more likely to occur in a list.               usually occur because of immutability."
   ]
  },
  {
   "cell_type": "markdown",
   "id": "760a937b",
   "metadata": {},
   "source": [
    "**14. How do you type a tuple value that only contains the integer 42?**"
   ]
  },
  {
   "cell_type": "code",
   "execution_count": 34,
   "id": "3294488d",
   "metadata": {},
   "outputs": [
    {
     "data": {
      "text/plain": [
       "tuple"
      ]
     },
     "execution_count": 34,
     "metadata": {},
     "output_type": "execute_result"
    }
   ],
   "source": [
    "#t = (42) # will give int\n",
    "\n",
    "t = (42,) # will give tuple\n",
    "type(t)"
   ]
  },
  {
   "cell_type": "markdown",
   "id": "6a4ce4c7",
   "metadata": {},
   "source": [
    "**15. How do you get a list value's tuple form? How do you get a tuple value's list form?**"
   ]
  },
  {
   "cell_type": "code",
   "execution_count": 36,
   "id": "4e158444",
   "metadata": {},
   "outputs": [
    {
     "data": {
      "text/plain": [
       "(2, 3)"
      ]
     },
     "execution_count": 36,
     "metadata": {},
     "output_type": "execute_result"
    }
   ],
   "source": [
    "# converting a list into a tuple\n",
    "l = [2,3]\n",
    "t = tuple(l)\n",
    "t"
   ]
  },
  {
   "cell_type": "code",
   "execution_count": 37,
   "id": "d97d48ab",
   "metadata": {},
   "outputs": [
    {
     "data": {
      "text/plain": [
       "[3, 4]"
      ]
     },
     "execution_count": 37,
     "metadata": {},
     "output_type": "execute_result"
    }
   ],
   "source": [
    "# Converting a tuple into a list\n",
    "t = (3,4)\n",
    "l = list(t)\n",
    "l"
   ]
  },
  {
   "cell_type": "markdown",
   "id": "a68801e2",
   "metadata": {},
   "source": [
    "**16. Variables that \"contain\" list values are not necessarily lists themselves. Instead, what do they contain?**"
   ]
  },
  {
   "cell_type": "markdown",
   "id": "f8a99bd0",
   "metadata": {},
   "source": [
    "They contain references to list values"
   ]
  },
  {
   "cell_type": "markdown",
   "id": "e6747310",
   "metadata": {},
   "source": [
    "**17. How do you distinguish between copy.copy() and copy.deepcopy()?**"
   ]
  },
  {
   "cell_type": "markdown",
   "id": "ca460a9f",
   "metadata": {},
   "source": [
    "The copy.copy() function will do a shallow copy of a list. <br>\n",
    "The copy.deepcopy() function will do a deep copy of a list. Only copy.deepcopy() will duplicate any lists inside the list."
   ]
  },
  {
   "cell_type": "markdown",
   "id": "12faef37",
   "metadata": {},
   "source": []
  }
 ],
 "metadata": {
  "kernelspec": {
   "display_name": "Python 3 (ipykernel)",
   "language": "python",
   "name": "python3"
  },
  "language_info": {
   "codemirror_mode": {
    "name": "ipython",
    "version": 3
   },
   "file_extension": ".py",
   "mimetype": "text/x-python",
   "name": "python",
   "nbconvert_exporter": "python",
   "pygments_lexer": "ipython3",
   "version": "3.10.9"
  }
 },
 "nbformat": 4,
 "nbformat_minor": 5
}
