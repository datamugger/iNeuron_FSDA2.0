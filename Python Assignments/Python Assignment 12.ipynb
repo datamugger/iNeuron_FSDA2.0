{
 "cells": [
  {
   "cell_type": "markdown",
   "metadata": {
    "id": "eT6lKxBrMF0L"
   },
   "source": [
    "# Python Assignment 12"
   ]
  },
  {
   "cell_type": "markdown",
   "metadata": {
    "id": "ROScO6f2MKuF"
   },
   "source": [
    "> **1. In what modes should the PdfFileReader() and PdfFileWriter() File objects will be opened?**"
   ]
  },
  {
   "cell_type": "markdown",
   "metadata": {
    "id": "9i9oWLIEMQOO"
   },
   "source": [
    "These files will be opened in binary mode. \n",
    "* read binary (rb) for PdfFileREader() and \n",
    "* write binary (wb) PdfFileWriter()"
   ]
  },
  {
   "cell_type": "code",
   "execution_count": 1,
   "metadata": {
    "colab": {
     "base_uri": "https://localhost:8080/"
    },
    "executionInfo": {
     "elapsed": 4853,
     "status": "ok",
     "timestamp": 1626806009765,
     "user": {
      "displayName": "Yuno Clover",
      "photoUrl": "",
      "userId": "14793961318254159012"
     },
     "user_tz": -330
    },
    "id": "usJa-Zj0xPnj",
    "outputId": "48209e7c-0b9e-4a69-a22f-f908cb914b40"
   },
   "outputs": [
    {
     "name": "stdout",
     "output_type": "stream",
     "text": [
      "Collecting PyPDF2\n",
      "  Downloading PyPDF2-1.26.0.tar.gz (77 kB)\n",
      "\u001b[?25l\r",
      "\u001b[K     |████▎                           | 10 kB 19.6 MB/s eta 0:00:01\r",
      "\u001b[K     |████████▌                       | 20 kB 18.0 MB/s eta 0:00:01\r",
      "\u001b[K     |████████████▊                   | 30 kB 11.5 MB/s eta 0:00:01\r",
      "\u001b[K     |█████████████████               | 40 kB 10.0 MB/s eta 0:00:01\r",
      "\u001b[K     |█████████████████████▏          | 51 kB 5.4 MB/s eta 0:00:01\r",
      "\u001b[K     |█████████████████████████▍      | 61 kB 5.3 MB/s eta 0:00:01\r",
      "\u001b[K     |█████████████████████████████▋  | 71 kB 5.9 MB/s eta 0:00:01\r",
      "\u001b[K     |████████████████████████████████| 77 kB 3.1 MB/s \n",
      "\u001b[?25hBuilding wheels for collected packages: PyPDF2\n",
      "  Building wheel for PyPDF2 (setup.py) ... \u001b[?25l\u001b[?25hdone\n",
      "  Created wheel for PyPDF2: filename=PyPDF2-1.26.0-py3-none-any.whl size=61100 sha256=f86d38131b05c1d595e66639eef80198eec8a0ae2396db736db124eaaf26c2a7\n",
      "  Stored in directory: /root/.cache/pip/wheels/80/1a/24/648467ade3a77ed20f35cfd2badd32134e96dd25ca811e64b3\n",
      "Successfully built PyPDF2\n",
      "Installing collected packages: PyPDF2\n",
      "Successfully installed PyPDF2-1.26.0\n"
     ]
    }
   ],
   "source": [
    "!pip install PyPDF2"
   ]
  },
  {
   "cell_type": "markdown",
   "metadata": {
    "id": "LTX7RzPwMctr"
   },
   "source": [
    "> **2. From a PdfFileReader object, how do you get a Page object for page 5?**"
   ]
  },
  {
   "cell_type": "markdown",
   "metadata": {
    "id": "2vyuagHoMip7"
   },
   "source": [
    "Calling getPage(4) will return a Page object for page 5 since page 0 is the first page."
   ]
  },
  {
   "cell_type": "code",
   "execution_count": null,
   "metadata": {
    "id": "I47ZAAUMN8_W"
   },
   "outputs": [],
   "source": [
    "import PyPDF2 as pdf\n",
    "\n",
    "pdfFileObj = open(\"file_name.pdf\",'rb')\n",
    "pdfReader = pdf.PdfFileReader(pdfFileObj)\n",
    "pageObj = pdfReader.getPage(4)\n",
    "\n",
    "pageObj.extractText()"
   ]
  },
  {
   "cell_type": "markdown",
   "metadata": {
    "id": "fDAt7WT3MuJ2"
   },
   "source": [
    "> **3. What PdfFileReader variable stores the number of pages in the PDF document?**"
   ]
  },
  {
   "cell_type": "code",
   "execution_count": null,
   "metadata": {
    "id": "2drh-CQSM0nf"
   },
   "outputs": [],
   "source": [
    "import PyPDF2 as pdf\n",
    "\n",
    "pdfFileObj = open(\"cardealer.pdf\",'rb')\n",
    "pdfReader = pdf.PdfFileReader(pdfFileObj)\n",
    "pdfReader.numPages"
   ]
  },
  {
   "cell_type": "markdown",
   "metadata": {
    "id": "BCuk5OzAODUk"
   },
   "source": [
    "> **4. If a PdfFileReader object’s PDF is encrypted with the password swordfish, what must you do before you can obtain Page objects from it?**"
   ]
  },
  {
   "cell_type": "markdown",
   "metadata": {
    "id": "bJjgFqysOI-p"
   },
   "source": [
    "Before we obtain the page object, the pdf has to be decrypted by calling .decrypt('swordfish')"
   ]
  },
  {
   "cell_type": "markdown",
   "metadata": {
    "id": "t5txnV0VObkr"
   },
   "source": [
    "> **5. What methods do you use to rotate a page?**"
   ]
  },
  {
   "cell_type": "code",
   "execution_count": 5,
   "metadata": {
    "executionInfo": {
     "elapsed": 401,
     "status": "ok",
     "timestamp": 1626806581030,
     "user": {
      "displayName": "Yuno Clover",
      "photoUrl": "",
      "userId": "14793961318254159012"
     },
     "user_tz": -330
    },
    "id": "BZOVpXl_ODA8"
   },
   "outputs": [],
   "source": [
    "#pageObj.rotateClockwise(180)\n",
    "\n",
    "#The rotateClockwise() and rotateCounterClockwise() methods. The degrees to rotate is passed as an integer argument"
   ]
  },
  {
   "cell_type": "markdown",
   "metadata": {
    "id": "7nORSMJ5OraP"
   },
   "source": [
    "> **6. What is the difference between a Run object and a Paragraph object?**"
   ]
  },
  {
   "cell_type": "markdown",
   "metadata": {
    "id": "0S99qn40OwtO"
   },
   "source": [
    "*   Paragraph Object : A document contains multiple paragraphs. A paragraph begins on a new line and contains multiple \n",
    "runs. <br> The Document object contains a list of Paragraph objects for the paragraphs in the document. (A new paragraph begins \n",
    "whenever the user presses ENTER or RETURN while typing in a Word document.)\n",
    "\n",
    "*   Run Objects : Runs are contiguous groups of characters within a paragraph with the same style."
   ]
  },
  {
   "cell_type": "markdown",
   "metadata": {
    "id": "0pU3z-yqO78t"
   },
   "source": [
    "> **7. How do you obtain a list of Paragraph objects for a Document object that’s stored in a variable named doc?**"
   ]
  },
  {
   "cell_type": "code",
   "execution_count": null,
   "metadata": {
    "id": "a00jsI7yOnMK"
   },
   "outputs": [],
   "source": [
    "#!pip install python-docx\n",
    "import docx\n",
    "doc = docx.Document('abc.docx')\n",
    "doc.paragraphs\n",
    "#By using doc.paragraphs"
   ]
  },
  {
   "cell_type": "markdown",
   "metadata": {
    "id": "PjeL32uqPNeg"
   },
   "source": [
    "> **8. What type of object has bold, underline, italic, strike, and outline variables?**"
   ]
  },
  {
   "cell_type": "markdown",
   "metadata": {
    "id": "JGI0iUsXPSeN"
   },
   "source": [
    "A Run object has bold, underline,italic,strike and outline variables."
   ]
  },
  {
   "cell_type": "markdown",
   "metadata": {
    "id": "h6uksNgGPYWX"
   },
   "source": [
    "> **9. What is the difference between False, True, and None for the bold variable?**"
   ]
  },
  {
   "cell_type": "markdown",
   "metadata": {
    "id": "CAp9W7NIPerM"
   },
   "source": [
    "*   Runs can be further styled using text attributes. Each attribute can be set to one of three values:  <br>\n",
    "True (the attribute is always enabled, no matter what other styles are applied to the run), <br>\n",
    "False (the attribute is always disabled),<br>\n",
    "None (defaults to whatever the run’s style is set to)\n",
    "\n",
    "*  True always makes the Run object bolded and False makes it always not bolded, no matter what the style’s bold setting is. None will make the Run object just use the style’s bold setting"
   ]
  },
  {
   "cell_type": "markdown",
   "metadata": {
    "id": "KzWDdilVPuHS"
   },
   "source": [
    "> **10. How do you create a Document object for a new Word document?**"
   ]
  },
  {
   "cell_type": "markdown",
   "metadata": {
    "id": "XUcDILqgPwyB"
   },
   "source": [
    "By Calling the docx.Document() function."
   ]
  },
  {
   "cell_type": "markdown",
   "metadata": {
    "id": "clT98WYVP3MV"
   },
   "source": [
    "> **11. How do you add a paragraph with the text 'Hello, there!'' to a Document object stored in a variable named doc?**"
   ]
  },
  {
   "cell_type": "code",
   "execution_count": null,
   "metadata": {
    "id": "UTnTNEvwP9bN"
   },
   "outputs": [],
   "source": [
    "import docx\n",
    "\n",
    "doc = docx.Document()\n",
    "\n",
    "doc.add_paragraph('Hello there!')\n",
    "doc.save('hellothere.docx')"
   ]
  },
  {
   "cell_type": "markdown",
   "metadata": {
    "id": "s2y5uBbeP6vU"
   },
   "source": [
    "> **12. What integers represent the levels of headings available in Word documents?**"
   ]
  },
  {
   "cell_type": "markdown",
   "metadata": {
    "id": "lZg75Qz0QIID"
   },
   "source": [
    "*   Integer from 0 to 4.\n",
    "*   The arguments to add_heading() are a string of the heading text and an integer from 0 to 4. The integer 0 makes the heading the Title style, which is used for the top of the document. Integers 1 to 4 are for various heading levels, with 1 being the main heading and 4 the lowest subheading."
   ]
  }
 ],
 "metadata": {
  "colab": {
   "authorship_tag": "ABX9TyNrei+KyNWAHncaXDJAe9cl",
   "collapsed_sections": [],
   "name": "Python Basic Assignment 12.ipynb",
   "provenance": []
  },
  "kernelspec": {
   "display_name": "Python 3 (ipykernel)",
   "language": "python",
   "name": "python3"
  },
  "language_info": {
   "codemirror_mode": {
    "name": "ipython",
    "version": 3
   },
   "file_extension": ".py",
   "mimetype": "text/x-python",
   "name": "python",
   "nbconvert_exporter": "python",
   "pygments_lexer": "ipython3",
   "version": "3.10.9"
  }
 },
 "nbformat": 4,
 "nbformat_minor": 1
}
